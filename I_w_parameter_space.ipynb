{
 "cells": [
  {
   "cell_type": "code",
   "execution_count": 5,
   "metadata": {},
   "outputs": [],
   "source": [
    "import numpy as np\n",
    "import pandas as pd\n",
    "import matplotlib.pyplot as plt\n",
    "from matplotlib.gridspec import GridSpec\n",
    "import seaborn as sns\n",
    "from tqdm import tqdm\n",
    "from r_a_script import initialize_parameters, define_param_sets, solve_ode, get_states, calculate_durations, update_noise\n",
    "import matplotlib.ticker as ticker\n",
    "import matplotlib.colors as mcolors"
   ]
  },
  {
   "cell_type": "code",
   "execution_count": 3,
   "metadata": {},
   "outputs": [],
   "source": [
    "# def initialize_parameters():\n",
    "#     # Define fixed parameters and initial conditions\n",
    "#     params = {\n",
    "#         'x_0': 5, 'r_0': 0.5, 'k': 15.0, 'theta': 0.05, 'sigma': 0.25, \n",
    "#         'dt': 1, 'fin': 60000, 'r0': 0.0, 'a0': 0.0\n",
    "#     }\n",
    "#     params['num_steps'] = int(params['fin'] / params['dt'])\n",
    "#     params['t'] = np.linspace(0, params['fin'], params['num_steps'])\n",
    "#     print(f\"Parameters initialized: {params}\")\n",
    "#     return params"
   ]
  },
  {
   "cell_type": "code",
   "execution_count": 4,
   "metadata": {},
   "outputs": [],
   "source": [
    "def define_param_sets():\n",
    "    # Define ranges for I and w\n",
    "    I_values = np.linspace(1.4, 4, num=10)  # Adjust 'num' for the number of steps in the range\n",
    "    w_values = np.linspace(3.5, 7.5, num=10)  # Adjust 'num' for the number of steps in the range\n",
    "\n",
    "    # Create a grid of parameter sets with varying I and w\n",
    "    param_sets = [{'w': w, 'b': 1.0, 'I': I, 'name': f'ParamSet_w{w}_I{I}'} for w in w_values for I in I_values]\n",
    "    print(f\"Param sets: {param_sets}\")\n",
    "    return param_sets\n"
   ]
  },
  {
   "cell_type": "code",
   "execution_count": 57,
   "metadata": {},
   "outputs": [],
   "source": [
    "# params = initialize_parameters()\n",
    "# param_sets = define_param_sets()\n",
    "# print(len(params), len(param_sets))"
   ]
  },
  {
   "cell_type": "code",
   "execution_count": 58,
   "metadata": {},
   "outputs": [
    {
     "name": "stdout",
     "output_type": "stream",
     "text": [
      "Parameters initialized: {'x_0': 5, 'r_0': 0.5, 'k': 15.0, 'theta': 0.05, 'sigma': 0.25, 'dt': 1, 'fin': 60000, 'r0': 0.0, 'a0': 0.0, 'num_steps': 60000, 't': array([0.00000000e+00, 1.00001667e+00, 2.00003333e+00, ...,\n",
      "       5.99980000e+04, 5.99990000e+04, 6.00000000e+04])}\n",
      "Variance in OU noise: 0.06237704646969074\n",
      "Param sets: [{'w': 3.5, 'b': 1.0, 'I': 1.4, 'name': 'ParamSet_w3.5_I1.4'}, {'w': 3.5, 'b': 1.0, 'I': 1.6888888888888889, 'name': 'ParamSet_w3.5_I1.6888888888888889'}, {'w': 3.5, 'b': 1.0, 'I': 1.9777777777777779, 'name': 'ParamSet_w3.5_I1.9777777777777779'}, {'w': 3.5, 'b': 1.0, 'I': 2.2666666666666666, 'name': 'ParamSet_w3.5_I2.2666666666666666'}, {'w': 3.5, 'b': 1.0, 'I': 2.5555555555555554, 'name': 'ParamSet_w3.5_I2.5555555555555554'}, {'w': 3.5, 'b': 1.0, 'I': 2.8444444444444446, 'name': 'ParamSet_w3.5_I2.8444444444444446'}, {'w': 3.5, 'b': 1.0, 'I': 3.1333333333333333, 'name': 'ParamSet_w3.5_I3.1333333333333333'}, {'w': 3.5, 'b': 1.0, 'I': 3.4222222222222225, 'name': 'ParamSet_w3.5_I3.4222222222222225'}, {'w': 3.5, 'b': 1.0, 'I': 3.7111111111111112, 'name': 'ParamSet_w3.5_I3.7111111111111112'}, {'w': 3.5, 'b': 1.0, 'I': 4.0, 'name': 'ParamSet_w3.5_I4.0'}, {'w': 3.9444444444444446, 'b': 1.0, 'I': 1.4, 'name': 'ParamSet_w3.9444444444444446_I1.4'}, {'w': 3.9444444444444446, 'b': 1.0, 'I': 1.6888888888888889, 'name': 'ParamSet_w3.9444444444444446_I1.6888888888888889'}, {'w': 3.9444444444444446, 'b': 1.0, 'I': 1.9777777777777779, 'name': 'ParamSet_w3.9444444444444446_I1.9777777777777779'}, {'w': 3.9444444444444446, 'b': 1.0, 'I': 2.2666666666666666, 'name': 'ParamSet_w3.9444444444444446_I2.2666666666666666'}, {'w': 3.9444444444444446, 'b': 1.0, 'I': 2.5555555555555554, 'name': 'ParamSet_w3.9444444444444446_I2.5555555555555554'}, {'w': 3.9444444444444446, 'b': 1.0, 'I': 2.8444444444444446, 'name': 'ParamSet_w3.9444444444444446_I2.8444444444444446'}, {'w': 3.9444444444444446, 'b': 1.0, 'I': 3.1333333333333333, 'name': 'ParamSet_w3.9444444444444446_I3.1333333333333333'}, {'w': 3.9444444444444446, 'b': 1.0, 'I': 3.4222222222222225, 'name': 'ParamSet_w3.9444444444444446_I3.4222222222222225'}, {'w': 3.9444444444444446, 'b': 1.0, 'I': 3.7111111111111112, 'name': 'ParamSet_w3.9444444444444446_I3.7111111111111112'}, {'w': 3.9444444444444446, 'b': 1.0, 'I': 4.0, 'name': 'ParamSet_w3.9444444444444446_I4.0'}, {'w': 4.388888888888889, 'b': 1.0, 'I': 1.4, 'name': 'ParamSet_w4.388888888888889_I1.4'}, {'w': 4.388888888888889, 'b': 1.0, 'I': 1.6888888888888889, 'name': 'ParamSet_w4.388888888888889_I1.6888888888888889'}, {'w': 4.388888888888889, 'b': 1.0, 'I': 1.9777777777777779, 'name': 'ParamSet_w4.388888888888889_I1.9777777777777779'}, {'w': 4.388888888888889, 'b': 1.0, 'I': 2.2666666666666666, 'name': 'ParamSet_w4.388888888888889_I2.2666666666666666'}, {'w': 4.388888888888889, 'b': 1.0, 'I': 2.5555555555555554, 'name': 'ParamSet_w4.388888888888889_I2.5555555555555554'}, {'w': 4.388888888888889, 'b': 1.0, 'I': 2.8444444444444446, 'name': 'ParamSet_w4.388888888888889_I2.8444444444444446'}, {'w': 4.388888888888889, 'b': 1.0, 'I': 3.1333333333333333, 'name': 'ParamSet_w4.388888888888889_I3.1333333333333333'}, {'w': 4.388888888888889, 'b': 1.0, 'I': 3.4222222222222225, 'name': 'ParamSet_w4.388888888888889_I3.4222222222222225'}, {'w': 4.388888888888889, 'b': 1.0, 'I': 3.7111111111111112, 'name': 'ParamSet_w4.388888888888889_I3.7111111111111112'}, {'w': 4.388888888888889, 'b': 1.0, 'I': 4.0, 'name': 'ParamSet_w4.388888888888889_I4.0'}, {'w': 4.833333333333333, 'b': 1.0, 'I': 1.4, 'name': 'ParamSet_w4.833333333333333_I1.4'}, {'w': 4.833333333333333, 'b': 1.0, 'I': 1.6888888888888889, 'name': 'ParamSet_w4.833333333333333_I1.6888888888888889'}, {'w': 4.833333333333333, 'b': 1.0, 'I': 1.9777777777777779, 'name': 'ParamSet_w4.833333333333333_I1.9777777777777779'}, {'w': 4.833333333333333, 'b': 1.0, 'I': 2.2666666666666666, 'name': 'ParamSet_w4.833333333333333_I2.2666666666666666'}, {'w': 4.833333333333333, 'b': 1.0, 'I': 2.5555555555555554, 'name': 'ParamSet_w4.833333333333333_I2.5555555555555554'}, {'w': 4.833333333333333, 'b': 1.0, 'I': 2.8444444444444446, 'name': 'ParamSet_w4.833333333333333_I2.8444444444444446'}, {'w': 4.833333333333333, 'b': 1.0, 'I': 3.1333333333333333, 'name': 'ParamSet_w4.833333333333333_I3.1333333333333333'}, {'w': 4.833333333333333, 'b': 1.0, 'I': 3.4222222222222225, 'name': 'ParamSet_w4.833333333333333_I3.4222222222222225'}, {'w': 4.833333333333333, 'b': 1.0, 'I': 3.7111111111111112, 'name': 'ParamSet_w4.833333333333333_I3.7111111111111112'}, {'w': 4.833333333333333, 'b': 1.0, 'I': 4.0, 'name': 'ParamSet_w4.833333333333333_I4.0'}, {'w': 5.277777777777778, 'b': 1.0, 'I': 1.4, 'name': 'ParamSet_w5.277777777777778_I1.4'}, {'w': 5.277777777777778, 'b': 1.0, 'I': 1.6888888888888889, 'name': 'ParamSet_w5.277777777777778_I1.6888888888888889'}, {'w': 5.277777777777778, 'b': 1.0, 'I': 1.9777777777777779, 'name': 'ParamSet_w5.277777777777778_I1.9777777777777779'}, {'w': 5.277777777777778, 'b': 1.0, 'I': 2.2666666666666666, 'name': 'ParamSet_w5.277777777777778_I2.2666666666666666'}, {'w': 5.277777777777778, 'b': 1.0, 'I': 2.5555555555555554, 'name': 'ParamSet_w5.277777777777778_I2.5555555555555554'}, {'w': 5.277777777777778, 'b': 1.0, 'I': 2.8444444444444446, 'name': 'ParamSet_w5.277777777777778_I2.8444444444444446'}, {'w': 5.277777777777778, 'b': 1.0, 'I': 3.1333333333333333, 'name': 'ParamSet_w5.277777777777778_I3.1333333333333333'}, {'w': 5.277777777777778, 'b': 1.0, 'I': 3.4222222222222225, 'name': 'ParamSet_w5.277777777777778_I3.4222222222222225'}, {'w': 5.277777777777778, 'b': 1.0, 'I': 3.7111111111111112, 'name': 'ParamSet_w5.277777777777778_I3.7111111111111112'}, {'w': 5.277777777777778, 'b': 1.0, 'I': 4.0, 'name': 'ParamSet_w5.277777777777778_I4.0'}, {'w': 5.722222222222222, 'b': 1.0, 'I': 1.4, 'name': 'ParamSet_w5.722222222222222_I1.4'}, {'w': 5.722222222222222, 'b': 1.0, 'I': 1.6888888888888889, 'name': 'ParamSet_w5.722222222222222_I1.6888888888888889'}, {'w': 5.722222222222222, 'b': 1.0, 'I': 1.9777777777777779, 'name': 'ParamSet_w5.722222222222222_I1.9777777777777779'}, {'w': 5.722222222222222, 'b': 1.0, 'I': 2.2666666666666666, 'name': 'ParamSet_w5.722222222222222_I2.2666666666666666'}, {'w': 5.722222222222222, 'b': 1.0, 'I': 2.5555555555555554, 'name': 'ParamSet_w5.722222222222222_I2.5555555555555554'}, {'w': 5.722222222222222, 'b': 1.0, 'I': 2.8444444444444446, 'name': 'ParamSet_w5.722222222222222_I2.8444444444444446'}, {'w': 5.722222222222222, 'b': 1.0, 'I': 3.1333333333333333, 'name': 'ParamSet_w5.722222222222222_I3.1333333333333333'}, {'w': 5.722222222222222, 'b': 1.0, 'I': 3.4222222222222225, 'name': 'ParamSet_w5.722222222222222_I3.4222222222222225'}, {'w': 5.722222222222222, 'b': 1.0, 'I': 3.7111111111111112, 'name': 'ParamSet_w5.722222222222222_I3.7111111111111112'}, {'w': 5.722222222222222, 'b': 1.0, 'I': 4.0, 'name': 'ParamSet_w5.722222222222222_I4.0'}, {'w': 6.166666666666666, 'b': 1.0, 'I': 1.4, 'name': 'ParamSet_w6.166666666666666_I1.4'}, {'w': 6.166666666666666, 'b': 1.0, 'I': 1.6888888888888889, 'name': 'ParamSet_w6.166666666666666_I1.6888888888888889'}, {'w': 6.166666666666666, 'b': 1.0, 'I': 1.9777777777777779, 'name': 'ParamSet_w6.166666666666666_I1.9777777777777779'}, {'w': 6.166666666666666, 'b': 1.0, 'I': 2.2666666666666666, 'name': 'ParamSet_w6.166666666666666_I2.2666666666666666'}, {'w': 6.166666666666666, 'b': 1.0, 'I': 2.5555555555555554, 'name': 'ParamSet_w6.166666666666666_I2.5555555555555554'}, {'w': 6.166666666666666, 'b': 1.0, 'I': 2.8444444444444446, 'name': 'ParamSet_w6.166666666666666_I2.8444444444444446'}, {'w': 6.166666666666666, 'b': 1.0, 'I': 3.1333333333333333, 'name': 'ParamSet_w6.166666666666666_I3.1333333333333333'}, {'w': 6.166666666666666, 'b': 1.0, 'I': 3.4222222222222225, 'name': 'ParamSet_w6.166666666666666_I3.4222222222222225'}, {'w': 6.166666666666666, 'b': 1.0, 'I': 3.7111111111111112, 'name': 'ParamSet_w6.166666666666666_I3.7111111111111112'}, {'w': 6.166666666666666, 'b': 1.0, 'I': 4.0, 'name': 'ParamSet_w6.166666666666666_I4.0'}, {'w': 6.611111111111111, 'b': 1.0, 'I': 1.4, 'name': 'ParamSet_w6.611111111111111_I1.4'}, {'w': 6.611111111111111, 'b': 1.0, 'I': 1.6888888888888889, 'name': 'ParamSet_w6.611111111111111_I1.6888888888888889'}, {'w': 6.611111111111111, 'b': 1.0, 'I': 1.9777777777777779, 'name': 'ParamSet_w6.611111111111111_I1.9777777777777779'}, {'w': 6.611111111111111, 'b': 1.0, 'I': 2.2666666666666666, 'name': 'ParamSet_w6.611111111111111_I2.2666666666666666'}, {'w': 6.611111111111111, 'b': 1.0, 'I': 2.5555555555555554, 'name': 'ParamSet_w6.611111111111111_I2.5555555555555554'}, {'w': 6.611111111111111, 'b': 1.0, 'I': 2.8444444444444446, 'name': 'ParamSet_w6.611111111111111_I2.8444444444444446'}, {'w': 6.611111111111111, 'b': 1.0, 'I': 3.1333333333333333, 'name': 'ParamSet_w6.611111111111111_I3.1333333333333333'}, {'w': 6.611111111111111, 'b': 1.0, 'I': 3.4222222222222225, 'name': 'ParamSet_w6.611111111111111_I3.4222222222222225'}, {'w': 6.611111111111111, 'b': 1.0, 'I': 3.7111111111111112, 'name': 'ParamSet_w6.611111111111111_I3.7111111111111112'}, {'w': 6.611111111111111, 'b': 1.0, 'I': 4.0, 'name': 'ParamSet_w6.611111111111111_I4.0'}, {'w': 7.055555555555555, 'b': 1.0, 'I': 1.4, 'name': 'ParamSet_w7.055555555555555_I1.4'}, {'w': 7.055555555555555, 'b': 1.0, 'I': 1.6888888888888889, 'name': 'ParamSet_w7.055555555555555_I1.6888888888888889'}, {'w': 7.055555555555555, 'b': 1.0, 'I': 1.9777777777777779, 'name': 'ParamSet_w7.055555555555555_I1.9777777777777779'}, {'w': 7.055555555555555, 'b': 1.0, 'I': 2.2666666666666666, 'name': 'ParamSet_w7.055555555555555_I2.2666666666666666'}, {'w': 7.055555555555555, 'b': 1.0, 'I': 2.5555555555555554, 'name': 'ParamSet_w7.055555555555555_I2.5555555555555554'}, {'w': 7.055555555555555, 'b': 1.0, 'I': 2.8444444444444446, 'name': 'ParamSet_w7.055555555555555_I2.8444444444444446'}, {'w': 7.055555555555555, 'b': 1.0, 'I': 3.1333333333333333, 'name': 'ParamSet_w7.055555555555555_I3.1333333333333333'}, {'w': 7.055555555555555, 'b': 1.0, 'I': 3.4222222222222225, 'name': 'ParamSet_w7.055555555555555_I3.4222222222222225'}, {'w': 7.055555555555555, 'b': 1.0, 'I': 3.7111111111111112, 'name': 'ParamSet_w7.055555555555555_I3.7111111111111112'}, {'w': 7.055555555555555, 'b': 1.0, 'I': 4.0, 'name': 'ParamSet_w7.055555555555555_I4.0'}, {'w': 7.5, 'b': 1.0, 'I': 1.4, 'name': 'ParamSet_w7.5_I1.4'}, {'w': 7.5, 'b': 1.0, 'I': 1.6888888888888889, 'name': 'ParamSet_w7.5_I1.6888888888888889'}, {'w': 7.5, 'b': 1.0, 'I': 1.9777777777777779, 'name': 'ParamSet_w7.5_I1.9777777777777779'}, {'w': 7.5, 'b': 1.0, 'I': 2.2666666666666666, 'name': 'ParamSet_w7.5_I2.2666666666666666'}, {'w': 7.5, 'b': 1.0, 'I': 2.5555555555555554, 'name': 'ParamSet_w7.5_I2.5555555555555554'}, {'w': 7.5, 'b': 1.0, 'I': 2.8444444444444446, 'name': 'ParamSet_w7.5_I2.8444444444444446'}, {'w': 7.5, 'b': 1.0, 'I': 3.1333333333333333, 'name': 'ParamSet_w7.5_I3.1333333333333333'}, {'w': 7.5, 'b': 1.0, 'I': 3.4222222222222225, 'name': 'ParamSet_w7.5_I3.4222222222222225'}, {'w': 7.5, 'b': 1.0, 'I': 3.7111111111111112, 'name': 'ParamSet_w7.5_I3.7111111111111112'}, {'w': 7.5, 'b': 1.0, 'I': 4.0, 'name': 'ParamSet_w7.5_I4.0'}]\n",
      "Solving ODE for parameter set: {'w': 3.5, 'b': 1.0, 'I': 1.4, 'name': 'ParamSet_w3.5_I1.4'}\n"
     ]
    },
    {
     "name": "stderr",
     "output_type": "stream",
     "text": [
      "Simulating ParamSet_w3.5_I1.4: 100%|██████████| 60000/60000 [00:00<00:00, 218775.99it/s]\n"
     ]
    },
    {
     "name": "stdout",
     "output_type": "stream",
     "text": [
      "Solving ODE for parameter set: {'w': 3.5, 'b': 1.0, 'I': 1.6888888888888889, 'name': 'ParamSet_w3.5_I1.6888888888888889'}\n"
     ]
    },
    {
     "name": "stderr",
     "output_type": "stream",
     "text": [
      "Simulating ParamSet_w3.5_I1.6888888888888889: 100%|██████████| 60000/60000 [00:00<00:00, 200165.47it/s]\n"
     ]
    },
    {
     "name": "stdout",
     "output_type": "stream",
     "text": [
      "Solving ODE for parameter set: {'w': 3.5, 'b': 1.0, 'I': 1.9777777777777779, 'name': 'ParamSet_w3.5_I1.9777777777777779'}\n"
     ]
    },
    {
     "name": "stderr",
     "output_type": "stream",
     "text": [
      "Simulating ParamSet_w3.5_I1.9777777777777779: 100%|██████████| 60000/60000 [00:00<00:00, 223974.94it/s]\n"
     ]
    },
    {
     "name": "stdout",
     "output_type": "stream",
     "text": [
      "Solving ODE for parameter set: {'w': 3.5, 'b': 1.0, 'I': 2.2666666666666666, 'name': 'ParamSet_w3.5_I2.2666666666666666'}\n"
     ]
    },
    {
     "name": "stderr",
     "output_type": "stream",
     "text": [
      "Simulating ParamSet_w3.5_I2.2666666666666666: 100%|██████████| 60000/60000 [00:00<00:00, 221425.08it/s]\n"
     ]
    },
    {
     "name": "stdout",
     "output_type": "stream",
     "text": [
      "Solving ODE for parameter set: {'w': 3.5, 'b': 1.0, 'I': 2.5555555555555554, 'name': 'ParamSet_w3.5_I2.5555555555555554'}\n"
     ]
    },
    {
     "name": "stderr",
     "output_type": "stream",
     "text": [
      "Simulating ParamSet_w3.5_I2.5555555555555554: 100%|██████████| 60000/60000 [00:00<00:00, 221521.56it/s]\n"
     ]
    },
    {
     "name": "stdout",
     "output_type": "stream",
     "text": [
      "Solving ODE for parameter set: {'w': 3.5, 'b': 1.0, 'I': 2.8444444444444446, 'name': 'ParamSet_w3.5_I2.8444444444444446'}\n"
     ]
    },
    {
     "name": "stderr",
     "output_type": "stream",
     "text": [
      "Simulating ParamSet_w3.5_I2.8444444444444446: 100%|██████████| 60000/60000 [00:00<00:00, 219243.71it/s]\n"
     ]
    },
    {
     "name": "stdout",
     "output_type": "stream",
     "text": [
      "Solving ODE for parameter set: {'w': 3.5, 'b': 1.0, 'I': 3.1333333333333333, 'name': 'ParamSet_w3.5_I3.1333333333333333'}\n"
     ]
    },
    {
     "name": "stderr",
     "output_type": "stream",
     "text": [
      "Simulating ParamSet_w3.5_I3.1333333333333333: 100%|██████████| 60000/60000 [00:00<00:00, 220736.00it/s]\n"
     ]
    },
    {
     "name": "stdout",
     "output_type": "stream",
     "text": [
      "Solving ODE for parameter set: {'w': 3.5, 'b': 1.0, 'I': 3.4222222222222225, 'name': 'ParamSet_w3.5_I3.4222222222222225'}\n"
     ]
    },
    {
     "name": "stderr",
     "output_type": "stream",
     "text": [
      "Simulating ParamSet_w3.5_I3.4222222222222225: 100%|██████████| 60000/60000 [00:00<00:00, 221622.22it/s]\n"
     ]
    },
    {
     "name": "stdout",
     "output_type": "stream",
     "text": [
      "Solving ODE for parameter set: {'w': 3.5, 'b': 1.0, 'I': 3.7111111111111112, 'name': 'ParamSet_w3.5_I3.7111111111111112'}\n"
     ]
    },
    {
     "name": "stderr",
     "output_type": "stream",
     "text": [
      "Simulating ParamSet_w3.5_I3.7111111111111112: 100%|██████████| 60000/60000 [00:00<00:00, 222124.36it/s]\n"
     ]
    },
    {
     "name": "stdout",
     "output_type": "stream",
     "text": [
      "Solving ODE for parameter set: {'w': 3.5, 'b': 1.0, 'I': 4.0, 'name': 'ParamSet_w3.5_I4.0'}\n"
     ]
    },
    {
     "name": "stderr",
     "output_type": "stream",
     "text": [
      "Simulating ParamSet_w3.5_I4.0: 100%|██████████| 60000/60000 [00:00<00:00, 208265.50it/s]\n"
     ]
    },
    {
     "name": "stdout",
     "output_type": "stream",
     "text": [
      "Solving ODE for parameter set: {'w': 3.9444444444444446, 'b': 1.0, 'I': 1.4, 'name': 'ParamSet_w3.9444444444444446_I1.4'}\n"
     ]
    },
    {
     "name": "stderr",
     "output_type": "stream",
     "text": [
      "Simulating ParamSet_w3.9444444444444446_I1.4: 100%|██████████| 60000/60000 [00:00<00:00, 221247.93it/s]\n"
     ]
    },
    {
     "name": "stdout",
     "output_type": "stream",
     "text": [
      "Solving ODE for parameter set: {'w': 3.9444444444444446, 'b': 1.0, 'I': 1.6888888888888889, 'name': 'ParamSet_w3.9444444444444446_I1.6888888888888889'}\n"
     ]
    },
    {
     "name": "stderr",
     "output_type": "stream",
     "text": [
      "Simulating ParamSet_w3.9444444444444446_I1.6888888888888889: 100%|██████████| 60000/60000 [00:00<00:00, 222623.86it/s]\n"
     ]
    },
    {
     "name": "stdout",
     "output_type": "stream",
     "text": [
      "Solving ODE for parameter set: {'w': 3.9444444444444446, 'b': 1.0, 'I': 1.9777777777777779, 'name': 'ParamSet_w3.9444444444444446_I1.9777777777777779'}\n"
     ]
    },
    {
     "name": "stderr",
     "output_type": "stream",
     "text": [
      "Simulating ParamSet_w3.9444444444444446_I1.9777777777777779: 100%|██████████| 60000/60000 [00:00<00:00, 222398.59it/s]\n"
     ]
    },
    {
     "name": "stdout",
     "output_type": "stream",
     "text": [
      "Solving ODE for parameter set: {'w': 3.9444444444444446, 'b': 1.0, 'I': 2.2666666666666666, 'name': 'ParamSet_w3.9444444444444446_I2.2666666666666666'}\n"
     ]
    },
    {
     "name": "stderr",
     "output_type": "stream",
     "text": [
      "Simulating ParamSet_w3.9444444444444446_I2.2666666666666666: 100%|██████████| 60000/60000 [00:00<00:00, 221507.72it/s]\n"
     ]
    },
    {
     "name": "stdout",
     "output_type": "stream",
     "text": [
      "Solving ODE for parameter set: {'w': 3.9444444444444446, 'b': 1.0, 'I': 2.5555555555555554, 'name': 'ParamSet_w3.9444444444444446_I2.5555555555555554'}\n"
     ]
    },
    {
     "name": "stderr",
     "output_type": "stream",
     "text": [
      "Simulating ParamSet_w3.9444444444444446_I2.5555555555555554: 100%|██████████| 60000/60000 [00:00<00:00, 223249.12it/s]\n"
     ]
    },
    {
     "name": "stdout",
     "output_type": "stream",
     "text": [
      "Solving ODE for parameter set: {'w': 3.9444444444444446, 'b': 1.0, 'I': 2.8444444444444446, 'name': 'ParamSet_w3.9444444444444446_I2.8444444444444446'}\n"
     ]
    },
    {
     "name": "stderr",
     "output_type": "stream",
     "text": [
      "Simulating ParamSet_w3.9444444444444446_I2.8444444444444446: 100%|██████████| 60000/60000 [00:00<00:00, 220840.79it/s]\n"
     ]
    },
    {
     "name": "stdout",
     "output_type": "stream",
     "text": [
      "Solving ODE for parameter set: {'w': 3.9444444444444446, 'b': 1.0, 'I': 3.1333333333333333, 'name': 'ParamSet_w3.9444444444444446_I3.1333333333333333'}\n"
     ]
    },
    {
     "name": "stderr",
     "output_type": "stream",
     "text": [
      "Simulating ParamSet_w3.9444444444444446_I3.1333333333333333: 100%|██████████| 60000/60000 [00:00<00:00, 222699.71it/s]\n"
     ]
    },
    {
     "name": "stdout",
     "output_type": "stream",
     "text": [
      "Solving ODE for parameter set: {'w': 3.9444444444444446, 'b': 1.0, 'I': 3.4222222222222225, 'name': 'ParamSet_w3.9444444444444446_I3.4222222222222225'}\n"
     ]
    },
    {
     "name": "stderr",
     "output_type": "stream",
     "text": [
      "Simulating ParamSet_w3.9444444444444446_I3.4222222222222225: 100%|██████████| 60000/60000 [00:00<00:00, 203183.03it/s]\n"
     ]
    },
    {
     "name": "stdout",
     "output_type": "stream",
     "text": [
      "Solving ODE for parameter set: {'w': 3.9444444444444446, 'b': 1.0, 'I': 3.7111111111111112, 'name': 'ParamSet_w3.9444444444444446_I3.7111111111111112'}\n"
     ]
    },
    {
     "name": "stderr",
     "output_type": "stream",
     "text": [
      "Simulating ParamSet_w3.9444444444444446_I3.7111111111111112: 100%|██████████| 60000/60000 [00:00<00:00, 224304.73it/s]\n"
     ]
    },
    {
     "name": "stdout",
     "output_type": "stream",
     "text": [
      "Solving ODE for parameter set: {'w': 3.9444444444444446, 'b': 1.0, 'I': 4.0, 'name': 'ParamSet_w3.9444444444444446_I4.0'}\n"
     ]
    },
    {
     "name": "stderr",
     "output_type": "stream",
     "text": [
      "Simulating ParamSet_w3.9444444444444446_I4.0: 100%|██████████| 60000/60000 [00:00<00:00, 221875.45it/s]\n"
     ]
    },
    {
     "name": "stdout",
     "output_type": "stream",
     "text": [
      "Solving ODE for parameter set: {'w': 4.388888888888889, 'b': 1.0, 'I': 1.4, 'name': 'ParamSet_w4.388888888888889_I1.4'}\n"
     ]
    },
    {
     "name": "stderr",
     "output_type": "stream",
     "text": [
      "Simulating ParamSet_w4.388888888888889_I1.4: 100%|██████████| 60000/60000 [00:00<00:00, 222293.88it/s]\n"
     ]
    },
    {
     "name": "stdout",
     "output_type": "stream",
     "text": [
      "Solving ODE for parameter set: {'w': 4.388888888888889, 'b': 1.0, 'I': 1.6888888888888889, 'name': 'ParamSet_w4.388888888888889_I1.6888888888888889'}\n"
     ]
    },
    {
     "name": "stderr",
     "output_type": "stream",
     "text": [
      "Simulating ParamSet_w4.388888888888889_I1.6888888888888889: 100%|██████████| 60000/60000 [00:00<00:00, 223218.23it/s]\n"
     ]
    },
    {
     "name": "stdout",
     "output_type": "stream",
     "text": [
      "Solving ODE for parameter set: {'w': 4.388888888888889, 'b': 1.0, 'I': 1.9777777777777779, 'name': 'ParamSet_w4.388888888888889_I1.9777777777777779'}\n"
     ]
    },
    {
     "name": "stderr",
     "output_type": "stream",
     "text": [
      "Simulating ParamSet_w4.388888888888889_I1.9777777777777779: 100%|██████████| 60000/60000 [00:00<00:00, 222112.01it/s]\n"
     ]
    },
    {
     "name": "stdout",
     "output_type": "stream",
     "text": [
      "Solving ODE for parameter set: {'w': 4.388888888888889, 'b': 1.0, 'I': 2.2666666666666666, 'name': 'ParamSet_w4.388888888888889_I2.2666666666666666'}\n"
     ]
    },
    {
     "name": "stderr",
     "output_type": "stream",
     "text": [
      "Simulating ParamSet_w4.388888888888889_I2.2666666666666666: 100%|██████████| 60000/60000 [00:00<00:00, 225116.55it/s]\n"
     ]
    },
    {
     "name": "stdout",
     "output_type": "stream",
     "text": [
      "Solving ODE for parameter set: {'w': 4.388888888888889, 'b': 1.0, 'I': 2.5555555555555554, 'name': 'ParamSet_w4.388888888888889_I2.5555555555555554'}\n"
     ]
    },
    {
     "name": "stderr",
     "output_type": "stream",
     "text": [
      "Simulating ParamSet_w4.388888888888889_I2.5555555555555554: 100%|██████████| 60000/60000 [00:00<00:00, 224598.80it/s]\n"
     ]
    },
    {
     "name": "stdout",
     "output_type": "stream",
     "text": [
      "Solving ODE for parameter set: {'w': 4.388888888888889, 'b': 1.0, 'I': 2.8444444444444446, 'name': 'ParamSet_w4.388888888888889_I2.8444444444444446'}\n"
     ]
    },
    {
     "name": "stderr",
     "output_type": "stream",
     "text": [
      "Simulating ParamSet_w4.388888888888889_I2.8444444444444446: 100%|██████████| 60000/60000 [00:00<00:00, 218840.67it/s]\n"
     ]
    },
    {
     "name": "stdout",
     "output_type": "stream",
     "text": [
      "Solving ODE for parameter set: {'w': 4.388888888888889, 'b': 1.0, 'I': 3.1333333333333333, 'name': 'ParamSet_w4.388888888888889_I3.1333333333333333'}\n"
     ]
    },
    {
     "name": "stderr",
     "output_type": "stream",
     "text": [
      "Simulating ParamSet_w4.388888888888889_I3.1333333333333333: 100%|██████████| 60000/60000 [00:00<00:00, 220010.79it/s]\n"
     ]
    },
    {
     "name": "stdout",
     "output_type": "stream",
     "text": [
      "Solving ODE for parameter set: {'w': 4.388888888888889, 'b': 1.0, 'I': 3.4222222222222225, 'name': 'ParamSet_w4.388888888888889_I3.4222222222222225'}\n"
     ]
    },
    {
     "name": "stderr",
     "output_type": "stream",
     "text": [
      "Simulating ParamSet_w4.388888888888889_I3.4222222222222225: 100%|██████████| 60000/60000 [00:00<00:00, 222274.25it/s]\n"
     ]
    },
    {
     "name": "stdout",
     "output_type": "stream",
     "text": [
      "Solving ODE for parameter set: {'w': 4.388888888888889, 'b': 1.0, 'I': 3.7111111111111112, 'name': 'ParamSet_w4.388888888888889_I3.7111111111111112'}\n"
     ]
    },
    {
     "name": "stderr",
     "output_type": "stream",
     "text": [
      "Simulating ParamSet_w4.388888888888889_I3.7111111111111112: 100%|██████████| 60000/60000 [00:00<00:00, 223155.88it/s]\n"
     ]
    },
    {
     "name": "stdout",
     "output_type": "stream",
     "text": [
      "Solving ODE for parameter set: {'w': 4.388888888888889, 'b': 1.0, 'I': 4.0, 'name': 'ParamSet_w4.388888888888889_I4.0'}\n"
     ]
    },
    {
     "name": "stderr",
     "output_type": "stream",
     "text": [
      "Simulating ParamSet_w4.388888888888889_I4.0: 100%|██████████| 60000/60000 [00:00<00:00, 222845.44it/s]\n"
     ]
    },
    {
     "name": "stdout",
     "output_type": "stream",
     "text": [
      "Solving ODE for parameter set: {'w': 4.833333333333333, 'b': 1.0, 'I': 1.4, 'name': 'ParamSet_w4.833333333333333_I1.4'}\n"
     ]
    },
    {
     "name": "stderr",
     "output_type": "stream",
     "text": [
      "Simulating ParamSet_w4.833333333333333_I1.4: 100%|██████████| 60000/60000 [00:00<00:00, 221299.49it/s]\n"
     ]
    },
    {
     "name": "stdout",
     "output_type": "stream",
     "text": [
      "Solving ODE for parameter set: {'w': 4.833333333333333, 'b': 1.0, 'I': 1.6888888888888889, 'name': 'ParamSet_w4.833333333333333_I1.6888888888888889'}\n"
     ]
    },
    {
     "name": "stderr",
     "output_type": "stream",
     "text": [
      "Simulating ParamSet_w4.833333333333333_I1.6888888888888889: 100%|██████████| 60000/60000 [00:00<00:00, 220055.81it/s]\n"
     ]
    },
    {
     "name": "stdout",
     "output_type": "stream",
     "text": [
      "Solving ODE for parameter set: {'w': 4.833333333333333, 'b': 1.0, 'I': 1.9777777777777779, 'name': 'ParamSet_w4.833333333333333_I1.9777777777777779'}\n"
     ]
    },
    {
     "name": "stderr",
     "output_type": "stream",
     "text": [
      "Simulating ParamSet_w4.833333333333333_I1.9777777777777779: 100%|██████████| 60000/60000 [00:00<00:00, 223929.90it/s]\n"
     ]
    },
    {
     "name": "stdout",
     "output_type": "stream",
     "text": [
      "Solving ODE for parameter set: {'w': 4.833333333333333, 'b': 1.0, 'I': 2.2666666666666666, 'name': 'ParamSet_w4.833333333333333_I2.2666666666666666'}\n"
     ]
    },
    {
     "name": "stderr",
     "output_type": "stream",
     "text": [
      "Simulating ParamSet_w4.833333333333333_I2.2666666666666666: 100%|██████████| 60000/60000 [00:00<00:00, 216749.63it/s]\n"
     ]
    },
    {
     "name": "stdout",
     "output_type": "stream",
     "text": [
      "Solving ODE for parameter set: {'w': 4.833333333333333, 'b': 1.0, 'I': 2.5555555555555554, 'name': 'ParamSet_w4.833333333333333_I2.5555555555555554'}\n"
     ]
    },
    {
     "name": "stderr",
     "output_type": "stream",
     "text": [
      "Simulating ParamSet_w4.833333333333333_I2.5555555555555554: 100%|██████████| 60000/60000 [00:00<00:00, 206774.01it/s]\n"
     ]
    },
    {
     "name": "stdout",
     "output_type": "stream",
     "text": [
      "Solving ODE for parameter set: {'w': 4.833333333333333, 'b': 1.0, 'I': 2.8444444444444446, 'name': 'ParamSet_w4.833333333333333_I2.8444444444444446'}\n"
     ]
    },
    {
     "name": "stderr",
     "output_type": "stream",
     "text": [
      "Simulating ParamSet_w4.833333333333333_I2.8444444444444446: 100%|██████████| 60000/60000 [00:00<00:00, 221704.62it/s]\n"
     ]
    },
    {
     "name": "stdout",
     "output_type": "stream",
     "text": [
      "Solving ODE for parameter set: {'w': 4.833333333333333, 'b': 1.0, 'I': 3.1333333333333333, 'name': 'ParamSet_w4.833333333333333_I3.1333333333333333'}\n"
     ]
    },
    {
     "name": "stderr",
     "output_type": "stream",
     "text": [
      "Simulating ParamSet_w4.833333333333333_I3.1333333333333333: 100%|██████████| 60000/60000 [00:00<00:00, 222483.53it/s]\n"
     ]
    },
    {
     "name": "stdout",
     "output_type": "stream",
     "text": [
      "Solving ODE for parameter set: {'w': 4.833333333333333, 'b': 1.0, 'I': 3.4222222222222225, 'name': 'ParamSet_w4.833333333333333_I3.4222222222222225'}\n"
     ]
    },
    {
     "name": "stderr",
     "output_type": "stream",
     "text": [
      "Simulating ParamSet_w4.833333333333333_I3.4222222222222225: 100%|██████████| 60000/60000 [00:00<00:00, 222637.05it/s]\n"
     ]
    },
    {
     "name": "stdout",
     "output_type": "stream",
     "text": [
      "Solving ODE for parameter set: {'w': 4.833333333333333, 'b': 1.0, 'I': 3.7111111111111112, 'name': 'ParamSet_w4.833333333333333_I3.7111111111111112'}\n"
     ]
    },
    {
     "name": "stderr",
     "output_type": "stream",
     "text": [
      "Simulating ParamSet_w4.833333333333333_I3.7111111111111112: 100%|██████████| 60000/60000 [00:00<00:00, 224057.69it/s]\n"
     ]
    },
    {
     "name": "stdout",
     "output_type": "stream",
     "text": [
      "Solving ODE for parameter set: {'w': 4.833333333333333, 'b': 1.0, 'I': 4.0, 'name': 'ParamSet_w4.833333333333333_I4.0'}\n"
     ]
    },
    {
     "name": "stderr",
     "output_type": "stream",
     "text": [
      "Simulating ParamSet_w4.833333333333333_I4.0: 100%|██████████| 60000/60000 [00:00<00:00, 221614.81it/s]\n"
     ]
    },
    {
     "name": "stdout",
     "output_type": "stream",
     "text": [
      "Solving ODE for parameter set: {'w': 5.277777777777778, 'b': 1.0, 'I': 1.4, 'name': 'ParamSet_w5.277777777777778_I1.4'}\n"
     ]
    },
    {
     "name": "stderr",
     "output_type": "stream",
     "text": [
      "Simulating ParamSet_w5.277777777777778_I1.4: 100%|██████████| 60000/60000 [00:00<00:00, 222595.70it/s]\n"
     ]
    },
    {
     "name": "stdout",
     "output_type": "stream",
     "text": [
      "Solving ODE for parameter set: {'w': 5.277777777777778, 'b': 1.0, 'I': 1.6888888888888889, 'name': 'ParamSet_w5.277777777777778_I1.6888888888888889'}\n"
     ]
    },
    {
     "name": "stderr",
     "output_type": "stream",
     "text": [
      "Simulating ParamSet_w5.277777777777778_I1.6888888888888889: 100%|██████████| 60000/60000 [00:00<00:00, 211750.12it/s]\n"
     ]
    },
    {
     "name": "stdout",
     "output_type": "stream",
     "text": [
      "Solving ODE for parameter set: {'w': 5.277777777777778, 'b': 1.0, 'I': 1.9777777777777779, 'name': 'ParamSet_w5.277777777777778_I1.9777777777777779'}\n"
     ]
    },
    {
     "name": "stderr",
     "output_type": "stream",
     "text": [
      "Simulating ParamSet_w5.277777777777778_I1.9777777777777779: 100%|██████████| 60000/60000 [00:00<00:00, 225509.71it/s]\n"
     ]
    },
    {
     "name": "stdout",
     "output_type": "stream",
     "text": [
      "Solving ODE for parameter set: {'w': 5.277777777777778, 'b': 1.0, 'I': 2.2666666666666666, 'name': 'ParamSet_w5.277777777777778_I2.2666666666666666'}\n"
     ]
    },
    {
     "name": "stderr",
     "output_type": "stream",
     "text": [
      "Simulating ParamSet_w5.277777777777778_I2.2666666666666666: 100%|██████████| 60000/60000 [00:00<00:00, 223722.86it/s]\n"
     ]
    },
    {
     "name": "stdout",
     "output_type": "stream",
     "text": [
      "Solving ODE for parameter set: {'w': 5.277777777777778, 'b': 1.0, 'I': 2.5555555555555554, 'name': 'ParamSet_w5.277777777777778_I2.5555555555555554'}\n"
     ]
    },
    {
     "name": "stderr",
     "output_type": "stream",
     "text": [
      "Simulating ParamSet_w5.277777777777778_I2.5555555555555554: 100%|██████████| 60000/60000 [00:00<00:00, 224554.11it/s]\n"
     ]
    },
    {
     "name": "stdout",
     "output_type": "stream",
     "text": [
      "Solving ODE for parameter set: {'w': 5.277777777777778, 'b': 1.0, 'I': 2.8444444444444446, 'name': 'ParamSet_w5.277777777777778_I2.8444444444444446'}\n"
     ]
    },
    {
     "name": "stderr",
     "output_type": "stream",
     "text": [
      "Simulating ParamSet_w5.277777777777778_I2.8444444444444446: 100%|██████████| 60000/60000 [00:00<00:00, 224310.13it/s]\n"
     ]
    },
    {
     "name": "stdout",
     "output_type": "stream",
     "text": [
      "Solving ODE for parameter set: {'w': 5.277777777777778, 'b': 1.0, 'I': 3.1333333333333333, 'name': 'ParamSet_w5.277777777777778_I3.1333333333333333'}\n"
     ]
    },
    {
     "name": "stderr",
     "output_type": "stream",
     "text": [
      "Simulating ParamSet_w5.277777777777778_I3.1333333333333333: 100%|██████████| 60000/60000 [00:00<00:00, 223994.28it/s]\n"
     ]
    },
    {
     "name": "stdout",
     "output_type": "stream",
     "text": [
      "Solving ODE for parameter set: {'w': 5.277777777777778, 'b': 1.0, 'I': 3.4222222222222225, 'name': 'ParamSet_w5.277777777777778_I3.4222222222222225'}\n"
     ]
    },
    {
     "name": "stderr",
     "output_type": "stream",
     "text": [
      "Simulating ParamSet_w5.277777777777778_I3.4222222222222225: 100%|██████████| 60000/60000 [00:00<00:00, 223818.97it/s]\n"
     ]
    },
    {
     "name": "stdout",
     "output_type": "stream",
     "text": [
      "Solving ODE for parameter set: {'w': 5.277777777777778, 'b': 1.0, 'I': 3.7111111111111112, 'name': 'ParamSet_w5.277777777777778_I3.7111111111111112'}\n"
     ]
    },
    {
     "name": "stderr",
     "output_type": "stream",
     "text": [
      "Simulating ParamSet_w5.277777777777778_I3.7111111111111112: 100%|██████████| 60000/60000 [00:00<00:00, 219286.32it/s]\n"
     ]
    },
    {
     "name": "stdout",
     "output_type": "stream",
     "text": [
      "Solving ODE for parameter set: {'w': 5.277777777777778, 'b': 1.0, 'I': 4.0, 'name': 'ParamSet_w5.277777777777778_I4.0'}\n"
     ]
    },
    {
     "name": "stderr",
     "output_type": "stream",
     "text": [
      "Simulating ParamSet_w5.277777777777778_I4.0: 100%|██████████| 60000/60000 [00:00<00:00, 197310.15it/s]\n"
     ]
    },
    {
     "name": "stdout",
     "output_type": "stream",
     "text": [
      "Solving ODE for parameter set: {'w': 5.722222222222222, 'b': 1.0, 'I': 1.4, 'name': 'ParamSet_w5.722222222222222_I1.4'}\n"
     ]
    },
    {
     "name": "stderr",
     "output_type": "stream",
     "text": [
      "Simulating ParamSet_w5.722222222222222_I1.4: 100%|██████████| 60000/60000 [00:00<00:00, 223899.81it/s]\n"
     ]
    },
    {
     "name": "stdout",
     "output_type": "stream",
     "text": [
      "Solving ODE for parameter set: {'w': 5.722222222222222, 'b': 1.0, 'I': 1.6888888888888889, 'name': 'ParamSet_w5.722222222222222_I1.6888888888888889'}\n"
     ]
    },
    {
     "name": "stderr",
     "output_type": "stream",
     "text": [
      "Simulating ParamSet_w5.722222222222222_I1.6888888888888889: 100%|██████████| 60000/60000 [00:00<00:00, 224041.14it/s]\n"
     ]
    },
    {
     "name": "stdout",
     "output_type": "stream",
     "text": [
      "Solving ODE for parameter set: {'w': 5.722222222222222, 'b': 1.0, 'I': 1.9777777777777779, 'name': 'ParamSet_w5.722222222222222_I1.9777777777777779'}\n"
     ]
    },
    {
     "name": "stderr",
     "output_type": "stream",
     "text": [
      "Simulating ParamSet_w5.722222222222222_I1.9777777777777779: 100%|██████████| 60000/60000 [00:00<00:00, 223371.58it/s]\n"
     ]
    },
    {
     "name": "stdout",
     "output_type": "stream",
     "text": [
      "Solving ODE for parameter set: {'w': 5.722222222222222, 'b': 1.0, 'I': 2.2666666666666666, 'name': 'ParamSet_w5.722222222222222_I2.2666666666666666'}\n"
     ]
    },
    {
     "name": "stderr",
     "output_type": "stream",
     "text": [
      "Simulating ParamSet_w5.722222222222222_I2.2666666666666666: 100%|██████████| 60000/60000 [00:00<00:00, 225085.14it/s]\n"
     ]
    },
    {
     "name": "stdout",
     "output_type": "stream",
     "text": [
      "Solving ODE for parameter set: {'w': 5.722222222222222, 'b': 1.0, 'I': 2.5555555555555554, 'name': 'ParamSet_w5.722222222222222_I2.5555555555555554'}\n"
     ]
    },
    {
     "name": "stderr",
     "output_type": "stream",
     "text": [
      "Simulating ParamSet_w5.722222222222222_I2.5555555555555554: 100%|██████████| 60000/60000 [00:00<00:00, 222710.55it/s]\n"
     ]
    },
    {
     "name": "stdout",
     "output_type": "stream",
     "text": [
      "Solving ODE for parameter set: {'w': 5.722222222222222, 'b': 1.0, 'I': 2.8444444444444446, 'name': 'ParamSet_w5.722222222222222_I2.8444444444444446'}\n"
     ]
    },
    {
     "name": "stderr",
     "output_type": "stream",
     "text": [
      "Simulating ParamSet_w5.722222222222222_I2.8444444444444446: 100%|██████████| 60000/60000 [00:00<00:00, 222046.36it/s]\n"
     ]
    },
    {
     "name": "stdout",
     "output_type": "stream",
     "text": [
      "Solving ODE for parameter set: {'w': 5.722222222222222, 'b': 1.0, 'I': 3.1333333333333333, 'name': 'ParamSet_w5.722222222222222_I3.1333333333333333'}\n"
     ]
    },
    {
     "name": "stderr",
     "output_type": "stream",
     "text": [
      "Simulating ParamSet_w5.722222222222222_I3.1333333333333333: 100%|██████████| 60000/60000 [00:00<00:00, 205661.95it/s]\n"
     ]
    },
    {
     "name": "stdout",
     "output_type": "stream",
     "text": [
      "Solving ODE for parameter set: {'w': 5.722222222222222, 'b': 1.0, 'I': 3.4222222222222225, 'name': 'ParamSet_w5.722222222222222_I3.4222222222222225'}\n"
     ]
    },
    {
     "name": "stderr",
     "output_type": "stream",
     "text": [
      "Simulating ParamSet_w5.722222222222222_I3.4222222222222225: 100%|██████████| 60000/60000 [00:00<00:00, 224888.62it/s]\n"
     ]
    },
    {
     "name": "stdout",
     "output_type": "stream",
     "text": [
      "Solving ODE for parameter set: {'w': 5.722222222222222, 'b': 1.0, 'I': 3.7111111111111112, 'name': 'ParamSet_w5.722222222222222_I3.7111111111111112'}\n"
     ]
    },
    {
     "name": "stderr",
     "output_type": "stream",
     "text": [
      "Simulating ParamSet_w5.722222222222222_I3.7111111111111112: 100%|██████████| 60000/60000 [00:00<00:00, 216929.93it/s]\n"
     ]
    },
    {
     "name": "stdout",
     "output_type": "stream",
     "text": [
      "Solving ODE for parameter set: {'w': 5.722222222222222, 'b': 1.0, 'I': 4.0, 'name': 'ParamSet_w5.722222222222222_I4.0'}\n"
     ]
    },
    {
     "name": "stderr",
     "output_type": "stream",
     "text": [
      "Simulating ParamSet_w5.722222222222222_I4.0: 100%|██████████| 60000/60000 [00:00<00:00, 222569.12it/s]\n"
     ]
    },
    {
     "name": "stdout",
     "output_type": "stream",
     "text": [
      "Solving ODE for parameter set: {'w': 6.166666666666666, 'b': 1.0, 'I': 1.4, 'name': 'ParamSet_w6.166666666666666_I1.4'}\n"
     ]
    },
    {
     "name": "stderr",
     "output_type": "stream",
     "text": [
      "Simulating ParamSet_w6.166666666666666_I1.4: 100%|██████████| 60000/60000 [00:00<00:00, 222560.27it/s]\n"
     ]
    },
    {
     "name": "stdout",
     "output_type": "stream",
     "text": [
      "Solving ODE for parameter set: {'w': 6.166666666666666, 'b': 1.0, 'I': 1.6888888888888889, 'name': 'ParamSet_w6.166666666666666_I1.6888888888888889'}\n"
     ]
    },
    {
     "name": "stderr",
     "output_type": "stream",
     "text": [
      "Simulating ParamSet_w6.166666666666666_I1.6888888888888889: 100%|██████████| 60000/60000 [00:00<00:00, 224423.14it/s]\n"
     ]
    },
    {
     "name": "stdout",
     "output_type": "stream",
     "text": [
      "Solving ODE for parameter set: {'w': 6.166666666666666, 'b': 1.0, 'I': 1.9777777777777779, 'name': 'ParamSet_w6.166666666666666_I1.9777777777777779'}\n"
     ]
    },
    {
     "name": "stderr",
     "output_type": "stream",
     "text": [
      "Simulating ParamSet_w6.166666666666666_I1.9777777777777779: 100%|██████████| 60000/60000 [00:00<00:00, 221863.72it/s]\n"
     ]
    },
    {
     "name": "stdout",
     "output_type": "stream",
     "text": [
      "Solving ODE for parameter set: {'w': 6.166666666666666, 'b': 1.0, 'I': 2.2666666666666666, 'name': 'ParamSet_w6.166666666666666_I2.2666666666666666'}\n"
     ]
    },
    {
     "name": "stderr",
     "output_type": "stream",
     "text": [
      "Simulating ParamSet_w6.166666666666666_I2.2666666666666666: 100%|██████████| 60000/60000 [00:00<00:00, 220422.02it/s]\n"
     ]
    },
    {
     "name": "stdout",
     "output_type": "stream",
     "text": [
      "Solving ODE for parameter set: {'w': 6.166666666666666, 'b': 1.0, 'I': 2.5555555555555554, 'name': 'ParamSet_w6.166666666666666_I2.5555555555555554'}\n"
     ]
    },
    {
     "name": "stderr",
     "output_type": "stream",
     "text": [
      "Simulating ParamSet_w6.166666666666666_I2.5555555555555554: 100%|██████████| 60000/60000 [00:00<00:00, 210100.91it/s]\n"
     ]
    },
    {
     "name": "stdout",
     "output_type": "stream",
     "text": [
      "Solving ODE for parameter set: {'w': 6.166666666666666, 'b': 1.0, 'I': 2.8444444444444446, 'name': 'ParamSet_w6.166666666666666_I2.8444444444444446'}\n"
     ]
    },
    {
     "name": "stderr",
     "output_type": "stream",
     "text": [
      "Simulating ParamSet_w6.166666666666666_I2.8444444444444446: 100%|██████████| 60000/60000 [00:00<00:00, 215753.79it/s]\n"
     ]
    },
    {
     "name": "stdout",
     "output_type": "stream",
     "text": [
      "Solving ODE for parameter set: {'w': 6.166666666666666, 'b': 1.0, 'I': 3.1333333333333333, 'name': 'ParamSet_w6.166666666666666_I3.1333333333333333'}\n"
     ]
    },
    {
     "name": "stderr",
     "output_type": "stream",
     "text": [
      "Simulating ParamSet_w6.166666666666666_I3.1333333333333333: 100%|██████████| 60000/60000 [00:00<00:00, 221981.33it/s]\n"
     ]
    },
    {
     "name": "stdout",
     "output_type": "stream",
     "text": [
      "Solving ODE for parameter set: {'w': 6.166666666666666, 'b': 1.0, 'I': 3.4222222222222225, 'name': 'ParamSet_w6.166666666666666_I3.4222222222222225'}\n"
     ]
    },
    {
     "name": "stderr",
     "output_type": "stream",
     "text": [
      "Simulating ParamSet_w6.166666666666666_I3.4222222222222225: 100%|██████████| 60000/60000 [00:00<00:00, 222711.33it/s]\n"
     ]
    },
    {
     "name": "stdout",
     "output_type": "stream",
     "text": [
      "Solving ODE for parameter set: {'w': 6.166666666666666, 'b': 1.0, 'I': 3.7111111111111112, 'name': 'ParamSet_w6.166666666666666_I3.7111111111111112'}\n"
     ]
    },
    {
     "name": "stderr",
     "output_type": "stream",
     "text": [
      "Simulating ParamSet_w6.166666666666666_I3.7111111111111112: 100%|██████████| 60000/60000 [00:00<00:00, 225009.87it/s]\n"
     ]
    },
    {
     "name": "stdout",
     "output_type": "stream",
     "text": [
      "Solving ODE for parameter set: {'w': 6.166666666666666, 'b': 1.0, 'I': 4.0, 'name': 'ParamSet_w6.166666666666666_I4.0'}\n"
     ]
    },
    {
     "name": "stderr",
     "output_type": "stream",
     "text": [
      "Simulating ParamSet_w6.166666666666666_I4.0: 100%|██████████| 60000/60000 [00:00<00:00, 225222.12it/s]\n"
     ]
    },
    {
     "name": "stdout",
     "output_type": "stream",
     "text": [
      "Solving ODE for parameter set: {'w': 6.611111111111111, 'b': 1.0, 'I': 1.4, 'name': 'ParamSet_w6.611111111111111_I1.4'}\n"
     ]
    },
    {
     "name": "stderr",
     "output_type": "stream",
     "text": [
      "Simulating ParamSet_w6.611111111111111_I1.4: 100%|██████████| 60000/60000 [00:00<00:00, 223593.66it/s]\n"
     ]
    },
    {
     "name": "stdout",
     "output_type": "stream",
     "text": [
      "Solving ODE for parameter set: {'w': 6.611111111111111, 'b': 1.0, 'I': 1.6888888888888889, 'name': 'ParamSet_w6.611111111111111_I1.6888888888888889'}\n"
     ]
    },
    {
     "name": "stderr",
     "output_type": "stream",
     "text": [
      "Simulating ParamSet_w6.611111111111111_I1.6888888888888889: 100%|██████████| 60000/60000 [00:00<00:00, 211821.59it/s]\n"
     ]
    },
    {
     "name": "stdout",
     "output_type": "stream",
     "text": [
      "Solving ODE for parameter set: {'w': 6.611111111111111, 'b': 1.0, 'I': 1.9777777777777779, 'name': 'ParamSet_w6.611111111111111_I1.9777777777777779'}\n"
     ]
    },
    {
     "name": "stderr",
     "output_type": "stream",
     "text": [
      "Simulating ParamSet_w6.611111111111111_I1.9777777777777779: 100%|██████████| 60000/60000 [00:00<00:00, 225261.63it/s]\n"
     ]
    },
    {
     "name": "stdout",
     "output_type": "stream",
     "text": [
      "Solving ODE for parameter set: {'w': 6.611111111111111, 'b': 1.0, 'I': 2.2666666666666666, 'name': 'ParamSet_w6.611111111111111_I2.2666666666666666'}\n"
     ]
    },
    {
     "name": "stderr",
     "output_type": "stream",
     "text": [
      "Simulating ParamSet_w6.611111111111111_I2.2666666666666666: 100%|██████████| 60000/60000 [00:00<00:00, 224592.99it/s]\n"
     ]
    },
    {
     "name": "stdout",
     "output_type": "stream",
     "text": [
      "Solving ODE for parameter set: {'w': 6.611111111111111, 'b': 1.0, 'I': 2.5555555555555554, 'name': 'ParamSet_w6.611111111111111_I2.5555555555555554'}\n"
     ]
    },
    {
     "name": "stderr",
     "output_type": "stream",
     "text": [
      "Simulating ParamSet_w6.611111111111111_I2.5555555555555554: 100%|██████████| 60000/60000 [00:00<00:00, 224698.07it/s]\n"
     ]
    },
    {
     "name": "stdout",
     "output_type": "stream",
     "text": [
      "Solving ODE for parameter set: {'w': 6.611111111111111, 'b': 1.0, 'I': 2.8444444444444446, 'name': 'ParamSet_w6.611111111111111_I2.8444444444444446'}\n"
     ]
    },
    {
     "name": "stderr",
     "output_type": "stream",
     "text": [
      "Simulating ParamSet_w6.611111111111111_I2.8444444444444446: 100%|██████████| 60000/60000 [00:00<00:00, 225460.21it/s]\n"
     ]
    },
    {
     "name": "stdout",
     "output_type": "stream",
     "text": [
      "Solving ODE for parameter set: {'w': 6.611111111111111, 'b': 1.0, 'I': 3.1333333333333333, 'name': 'ParamSet_w6.611111111111111_I3.1333333333333333'}\n"
     ]
    },
    {
     "name": "stderr",
     "output_type": "stream",
     "text": [
      "Simulating ParamSet_w6.611111111111111_I3.1333333333333333: 100%|██████████| 60000/60000 [00:00<00:00, 225620.71it/s]\n"
     ]
    },
    {
     "name": "stdout",
     "output_type": "stream",
     "text": [
      "Solving ODE for parameter set: {'w': 6.611111111111111, 'b': 1.0, 'I': 3.4222222222222225, 'name': 'ParamSet_w6.611111111111111_I3.4222222222222225'}\n"
     ]
    },
    {
     "name": "stderr",
     "output_type": "stream",
     "text": [
      "Simulating ParamSet_w6.611111111111111_I3.4222222222222225: 100%|██████████| 60000/60000 [00:00<00:00, 194719.22it/s]\n"
     ]
    },
    {
     "name": "stdout",
     "output_type": "stream",
     "text": [
      "Solving ODE for parameter set: {'w': 6.611111111111111, 'b': 1.0, 'I': 3.7111111111111112, 'name': 'ParamSet_w6.611111111111111_I3.7111111111111112'}\n"
     ]
    },
    {
     "name": "stderr",
     "output_type": "stream",
     "text": [
      "Simulating ParamSet_w6.611111111111111_I3.7111111111111112: 100%|██████████| 60000/60000 [00:00<00:00, 153848.18it/s]\n"
     ]
    },
    {
     "name": "stdout",
     "output_type": "stream",
     "text": [
      "Solving ODE for parameter set: {'w': 6.611111111111111, 'b': 1.0, 'I': 4.0, 'name': 'ParamSet_w6.611111111111111_I4.0'}\n"
     ]
    },
    {
     "name": "stderr",
     "output_type": "stream",
     "text": [
      "Simulating ParamSet_w6.611111111111111_I4.0: 100%|██████████| 60000/60000 [00:00<00:00, 189494.98it/s]\n"
     ]
    },
    {
     "name": "stdout",
     "output_type": "stream",
     "text": [
      "Solving ODE for parameter set: {'w': 7.055555555555555, 'b': 1.0, 'I': 1.4, 'name': 'ParamSet_w7.055555555555555_I1.4'}\n"
     ]
    },
    {
     "name": "stderr",
     "output_type": "stream",
     "text": [
      "Simulating ParamSet_w7.055555555555555_I1.4: 100%|██████████| 60000/60000 [00:00<00:00, 221118.46it/s]\n"
     ]
    },
    {
     "name": "stdout",
     "output_type": "stream",
     "text": [
      "Solving ODE for parameter set: {'w': 7.055555555555555, 'b': 1.0, 'I': 1.6888888888888889, 'name': 'ParamSet_w7.055555555555555_I1.6888888888888889'}\n"
     ]
    },
    {
     "name": "stderr",
     "output_type": "stream",
     "text": [
      "Simulating ParamSet_w7.055555555555555_I1.6888888888888889: 100%|██████████| 60000/60000 [00:00<00:00, 221685.87it/s]\n"
     ]
    },
    {
     "name": "stdout",
     "output_type": "stream",
     "text": [
      "Solving ODE for parameter set: {'w': 7.055555555555555, 'b': 1.0, 'I': 1.9777777777777779, 'name': 'ParamSet_w7.055555555555555_I1.9777777777777779'}\n"
     ]
    },
    {
     "name": "stderr",
     "output_type": "stream",
     "text": [
      "Simulating ParamSet_w7.055555555555555_I1.9777777777777779: 100%|██████████| 60000/60000 [00:00<00:00, 223438.02it/s]\n"
     ]
    },
    {
     "name": "stdout",
     "output_type": "stream",
     "text": [
      "Solving ODE for parameter set: {'w': 7.055555555555555, 'b': 1.0, 'I': 2.2666666666666666, 'name': 'ParamSet_w7.055555555555555_I2.2666666666666666'}\n"
     ]
    },
    {
     "name": "stderr",
     "output_type": "stream",
     "text": [
      "Simulating ParamSet_w7.055555555555555_I2.2666666666666666: 100%|██████████| 60000/60000 [00:00<00:00, 221875.45it/s]\n"
     ]
    },
    {
     "name": "stdout",
     "output_type": "stream",
     "text": [
      "Solving ODE for parameter set: {'w': 7.055555555555555, 'b': 1.0, 'I': 2.5555555555555554, 'name': 'ParamSet_w7.055555555555555_I2.5555555555555554'}\n"
     ]
    },
    {
     "name": "stderr",
     "output_type": "stream",
     "text": [
      "Simulating ParamSet_w7.055555555555555_I2.5555555555555554: 100%|██████████| 60000/60000 [00:00<00:00, 222852.54it/s]\n"
     ]
    },
    {
     "name": "stdout",
     "output_type": "stream",
     "text": [
      "Solving ODE for parameter set: {'w': 7.055555555555555, 'b': 1.0, 'I': 2.8444444444444446, 'name': 'ParamSet_w7.055555555555555_I2.8444444444444446'}\n"
     ]
    },
    {
     "name": "stderr",
     "output_type": "stream",
     "text": [
      "Simulating ParamSet_w7.055555555555555_I2.8444444444444446: 100%|██████████| 60000/60000 [00:00<00:00, 222504.77it/s]\n"
     ]
    },
    {
     "name": "stdout",
     "output_type": "stream",
     "text": [
      "Solving ODE for parameter set: {'w': 7.055555555555555, 'b': 1.0, 'I': 3.1333333333333333, 'name': 'ParamSet_w7.055555555555555_I3.1333333333333333'}\n"
     ]
    },
    {
     "name": "stderr",
     "output_type": "stream",
     "text": [
      "Simulating ParamSet_w7.055555555555555_I3.1333333333333333: 100%|██████████| 60000/60000 [00:00<00:00, 209065.70it/s]\n"
     ]
    },
    {
     "name": "stdout",
     "output_type": "stream",
     "text": [
      "Solving ODE for parameter set: {'w': 7.055555555555555, 'b': 1.0, 'I': 3.4222222222222225, 'name': 'ParamSet_w7.055555555555555_I3.4222222222222225'}\n"
     ]
    },
    {
     "name": "stderr",
     "output_type": "stream",
     "text": [
      "Simulating ParamSet_w7.055555555555555_I3.4222222222222225: 100%|██████████| 60000/60000 [00:00<00:00, 223951.62it/s]\n"
     ]
    },
    {
     "name": "stdout",
     "output_type": "stream",
     "text": [
      "Solving ODE for parameter set: {'w': 7.055555555555555, 'b': 1.0, 'I': 3.7111111111111112, 'name': 'ParamSet_w7.055555555555555_I3.7111111111111112'}\n"
     ]
    },
    {
     "name": "stderr",
     "output_type": "stream",
     "text": [
      "Simulating ParamSet_w7.055555555555555_I3.7111111111111112: 100%|██████████| 60000/60000 [00:00<00:00, 223925.71it/s]\n"
     ]
    },
    {
     "name": "stdout",
     "output_type": "stream",
     "text": [
      "Solving ODE for parameter set: {'w': 7.055555555555555, 'b': 1.0, 'I': 4.0, 'name': 'ParamSet_w7.055555555555555_I4.0'}\n"
     ]
    },
    {
     "name": "stderr",
     "output_type": "stream",
     "text": [
      "Simulating ParamSet_w7.055555555555555_I4.0: 100%|██████████| 60000/60000 [00:00<00:00, 224162.67it/s]\n"
     ]
    },
    {
     "name": "stdout",
     "output_type": "stream",
     "text": [
      "Solving ODE for parameter set: {'w': 7.5, 'b': 1.0, 'I': 1.4, 'name': 'ParamSet_w7.5_I1.4'}\n"
     ]
    },
    {
     "name": "stderr",
     "output_type": "stream",
     "text": [
      "Simulating ParamSet_w7.5_I1.4: 100%|██████████| 60000/60000 [00:00<00:00, 225521.43it/s]\n"
     ]
    },
    {
     "name": "stdout",
     "output_type": "stream",
     "text": [
      "Solving ODE for parameter set: {'w': 7.5, 'b': 1.0, 'I': 1.6888888888888889, 'name': 'ParamSet_w7.5_I1.6888888888888889'}\n"
     ]
    },
    {
     "name": "stderr",
     "output_type": "stream",
     "text": [
      "Simulating ParamSet_w7.5_I1.6888888888888889: 100%|██████████| 60000/60000 [00:00<00:00, 222888.47it/s]\n"
     ]
    },
    {
     "name": "stdout",
     "output_type": "stream",
     "text": [
      "Solving ODE for parameter set: {'w': 7.5, 'b': 1.0, 'I': 1.9777777777777779, 'name': 'ParamSet_w7.5_I1.9777777777777779'}\n"
     ]
    },
    {
     "name": "stderr",
     "output_type": "stream",
     "text": [
      "Simulating ParamSet_w7.5_I1.9777777777777779: 100%|██████████| 60000/60000 [00:00<00:00, 222261.69it/s]\n"
     ]
    },
    {
     "name": "stdout",
     "output_type": "stream",
     "text": [
      "Solving ODE for parameter set: {'w': 7.5, 'b': 1.0, 'I': 2.2666666666666666, 'name': 'ParamSet_w7.5_I2.2666666666666666'}\n"
     ]
    },
    {
     "name": "stderr",
     "output_type": "stream",
     "text": [
      "Simulating ParamSet_w7.5_I2.2666666666666666: 100%|██████████| 60000/60000 [00:00<00:00, 205512.47it/s]\n"
     ]
    },
    {
     "name": "stdout",
     "output_type": "stream",
     "text": [
      "Solving ODE for parameter set: {'w': 7.5, 'b': 1.0, 'I': 2.5555555555555554, 'name': 'ParamSet_w7.5_I2.5555555555555554'}\n"
     ]
    },
    {
     "name": "stderr",
     "output_type": "stream",
     "text": [
      "Simulating ParamSet_w7.5_I2.5555555555555554: 100%|██████████| 60000/60000 [00:00<00:00, 208285.49it/s]\n"
     ]
    },
    {
     "name": "stdout",
     "output_type": "stream",
     "text": [
      "Solving ODE for parameter set: {'w': 7.5, 'b': 1.0, 'I': 2.8444444444444446, 'name': 'ParamSet_w7.5_I2.8444444444444446'}\n"
     ]
    },
    {
     "name": "stderr",
     "output_type": "stream",
     "text": [
      "Simulating ParamSet_w7.5_I2.8444444444444446: 100%|██████████| 60000/60000 [00:00<00:00, 222162.80it/s]\n"
     ]
    },
    {
     "name": "stdout",
     "output_type": "stream",
     "text": [
      "Solving ODE for parameter set: {'w': 7.5, 'b': 1.0, 'I': 3.1333333333333333, 'name': 'ParamSet_w7.5_I3.1333333333333333'}\n"
     ]
    },
    {
     "name": "stderr",
     "output_type": "stream",
     "text": [
      "Simulating ParamSet_w7.5_I3.1333333333333333: 100%|██████████| 60000/60000 [00:00<00:00, 222176.13it/s]\n"
     ]
    },
    {
     "name": "stdout",
     "output_type": "stream",
     "text": [
      "Solving ODE for parameter set: {'w': 7.5, 'b': 1.0, 'I': 3.4222222222222225, 'name': 'ParamSet_w7.5_I3.4222222222222225'}\n"
     ]
    },
    {
     "name": "stderr",
     "output_type": "stream",
     "text": [
      "Simulating ParamSet_w7.5_I3.4222222222222225: 100%|██████████| 60000/60000 [00:00<00:00, 218649.40it/s]\n"
     ]
    },
    {
     "name": "stdout",
     "output_type": "stream",
     "text": [
      "Solving ODE for parameter set: {'w': 7.5, 'b': 1.0, 'I': 3.7111111111111112, 'name': 'ParamSet_w7.5_I3.7111111111111112'}\n"
     ]
    },
    {
     "name": "stderr",
     "output_type": "stream",
     "text": [
      "Simulating ParamSet_w7.5_I3.7111111111111112: 100%|██████████| 60000/60000 [00:00<00:00, 222764.96it/s]\n"
     ]
    },
    {
     "name": "stdout",
     "output_type": "stream",
     "text": [
      "Solving ODE for parameter set: {'w': 7.5, 'b': 1.0, 'I': 4.0, 'name': 'ParamSet_w7.5_I4.0'}\n"
     ]
    },
    {
     "name": "stderr",
     "output_type": "stream",
     "text": [
      "Simulating ParamSet_w7.5_I4.0: 100%|██████████| 60000/60000 [00:00<00:00, 223611.74it/s]\n"
     ]
    }
   ],
   "source": [
    "def get_prob_up_down():\n",
    "    # Initialize parameters\n",
    "    params = initialize_parameters()\n",
    "    # xi = np.zeros(params['num_steps'])\n",
    "    # noise = update_noise(xi, params['theta'], params['dt'], params['sigma'], params['num_steps'])?\n",
    "    param_sets = define_param_sets()\n",
    "\n",
    "    # Initialize an empty list to store the results\n",
    "    results = []\n",
    "\n",
    "    # Iterate over each parameter set\n",
    "    for idx, param_set in enumerate(param_sets):\n",
    "        # Solve the ODE for the current parameter set\n",
    "        r_values, a_values = solve_ode(params['r0'], params['a0'], params, param_set)\n",
    "        states = get_states(r_values, 0.5)\n",
    "\n",
    "        # Calculate durations for UP and DOWN states\n",
    "        up_durations, down_durations = calculate_durations(states, params['dt'])\n",
    "\n",
    "        # Calculate the ratio of UP to DOWN durations\n",
    "        total_up_duration = sum(up_durations)\n",
    "        total_down_duration = sum(down_durations)\n",
    "        up_down_ratio = float(total_up_duration) / total_down_duration if total_down_duration != 0 else np.nan\n",
    "\n",
    "        # Store the results\n",
    "        results.append({\n",
    "            'I': param_set['I'],\n",
    "            'w': param_set['w'],\n",
    "            'b': param_set['b'],\n",
    "            'P(UP):P(DOWN)': round(up_down_ratio, 2)\n",
    "        })\n",
    "\n",
    "    # Convert the results list to a DataFrame\n",
    "    results_df = pd.DataFrame(results)\n",
    "\n",
    "    # Construct a unique file name based on parameter ranges, dt, and fin\n",
    "    file_name = f'results_dt{params[\"dt\"]}_fin{params[\"fin\"]}.csv'\n",
    "\n",
    "    # Save the results to a CSV file\n",
    "    results_df.to_csv(file_name, index=False)\n",
    "\n",
    "    return results_df\n",
    "\n",
    "# Call the function and get the results DataFrame\n",
    "results_df = get_prob_up_down()"
   ]
  },
  {
   "cell_type": "code",
   "execution_count": 41,
   "metadata": {},
   "outputs": [
    {
     "data": {
      "text/plain": [
       "265"
      ]
     },
     "execution_count": 41,
     "metadata": {},
     "output_type": "execute_result"
    }
   ],
   "source": [
    "len(results_df[results_df[\"P(UP):P(DOWN)\"]>100])"
   ]
  },
  {
   "cell_type": "code",
   "execution_count": 8,
   "metadata": {},
   "outputs": [],
   "source": [
    "import pandas as pd\n",
    "\n",
    "df_hopf = pd.read_csv('i-w_hopf1.dat', delim_whitespace=True, header=None)\n",
    "df_saddle = pd.read_csv('saddle_i-w.dat', delim_whitespace=True, header=None)"
   ]
  },
  {
   "cell_type": "code",
   "execution_count": 24,
   "metadata": {},
   "outputs": [
    {
     "data": {
      "image/png": "[encoded data removed]",
      "text/plain": [
       "<Figure size 720x576 with 1 Axes>"
      ]
     },
     "metadata": {
      "needs_background": "light"
     },
     "output_type": "display_data"
    }
   ],
   "source": [
    "def plot_heatmap(data, file_name):\n",
    "    # Filter the data to include only rows where P(UP):P(DOWN) is in the range [0.01, 100]\n",
    "    filtered_data = data[(data['P(UP):P(DOWN)'] >= 0.01) & (data['P(UP):P(DOWN)'] <= 100)]\n",
    "\n",
    "    # Create a pivot table for the heatmap\n",
    "    pivot_table = filtered_data.pivot(\"w\", \"I\", \"P(UP):P(DOWN)\")\n",
    "\n",
    "    # Define the color map and normalization\n",
    "    cmap = mcolors.LinearSegmentedColormap.from_list(\n",
    "        \"custom_colormap\", \n",
    "        [\"blue\", \"grey\", \"red\"]\n",
    "    )\n",
    "    norm = mcolors.LogNorm(vmin=0.01, vmax=100)\n",
    "\n",
    "    # Plot the heatmap\n",
    "    fig, ax = plt.subplots(figsize=(10, 8))\n",
    "    heatmap = sns.heatmap(pivot_table, annot=False, fmt=\".1f\", cmap=cmap, norm=norm, ax=ax, cbar=False)\n",
    "\n",
    "    # Reverse the y-axis\n",
    "    ax.invert_yaxis()\n",
    "\n",
    "    # Add top, bottom, left, right strips (borders) around the plot\n",
    "    for _, spine in ax.spines.items():\n",
    "        spine.set_visible(True)\n",
    "        spine.set_linewidth(2)\n",
    "\n",
    "    # Remove the x-tick and y-tick labels\n",
    "    ax.set_xticklabels([])\n",
    "    ax.set_yticklabels([])\n",
    "\n",
    "    ax.set_ylabel('')\n",
    "    ax.set_xlabel('')\n",
    "\n",
    "    # Labels and title\n",
    "    # plt.title(\"P(UP):P(DOWN) Heatmap on I-w Grid\")\n",
    "\n",
    "    # # Adjust colorbar ticks\n",
    "    # cbar = ax.collections[0].colorbar\n",
    "    # cbar.ax.yaxis.set_major_locator(ticker.LogLocator(base=10.0, numticks=5))\n",
    "    # cbar.ax.yaxis.set_major_formatter(ticker.FuncFormatter(lambda x, _: f'{x:.2f}'))\n",
    "\n",
    "    # Create an inset axis for the colorbar\n",
    "    cax = ax.inset_axes([0.6, 0.9, 0.35, 0.05])  # x, y, width, height as fractions of parent axis\n",
    "    cbar = fig.colorbar(heatmap.collections[0], cax=cax, orientation='horizontal')\n",
    "    cbar.ax.xaxis.set_major_locator(ticker.LogLocator(base=10.0, numticks=5))\n",
    "    cbar.ax.xaxis.set_major_formatter(ticker.FuncFormatter(lambda x, _: f'{x:.2f}'))\n",
    "    cbar.ax.tick_params(axis='x', direction='in')\n",
    "\n",
    "    # Save the plot as SVG and PNG\n",
    "    svg_file_name = file_name + \".svg\"\n",
    "    png_file_name = file_name + \".png\"\n",
    "    plt.savefig(svg_file_name, format='svg')\n",
    "    # plt.savefig(png_file_name, format='png')\n",
    "\n",
    "    return plt\n",
    "\n",
    "file_path = \"results_dt0.1_fin60000_tau_20.csv\"\n",
    "results_df = pd.read_csv(file_path)\n",
    "# Example usage\n",
    "I_range = f'{results_df[\"I\"].min()}-{results_df[\"I\"].max()}'\n",
    "w_range = f'{results_df[\"w\"].min()}-{results_df[\"w\"].max()}'\n",
    "file_name = f\"./plots/final/heatmap_I_{I_range}_w_{w_range}\"\n",
    "heatmap_plot = plot_heatmap(results_df, file_name)\n",
    "heatmap_plot.show()\n",
    "\n",
    "\n",
    "\n"
   ]
  },
  {
   "cell_type": "code",
   "execution_count": null,
   "metadata": {},
   "outputs": [],
   "source": []
  }
 ],
 "metadata": {
  "kernelspec": {
   "display_name": "Python 3",
   "language": "python",
   "name": "python3"
  },
  "language_info": {
   "codemirror_mode": {
    "name": "ipython",
    "version": 3
   },
   "file_extension": ".py",
   "mimetype": "text/x-python",
   "name": "python",
   "nbconvert_exporter": "python",
   "pygments_lexer": "ipython3",
   "version": "3.9.18"
  }
 },
 "nbformat": 4,
 "nbformat_minor": 2
}
